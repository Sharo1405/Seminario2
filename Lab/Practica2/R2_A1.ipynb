{
 "cells": [
  {
   "cell_type": "code",
   "execution_count": 1,
   "metadata": {},
   "outputs": [],
   "source": [
    "import findspark\n",
    "findspark.init()\n",
    "from pyspark import SparkContext\n",
    "from pyspark.sql.session import SparkSession\n",
    "sc = SparkContext(\"local\", \"first app\")\n",
    "spark = SparkSession(sc)\n",
    "import plotly.graph_objects as go\n",
    "from pyspark.sql import SQLContext\n",
    "sqlContext = SQLContext(sc)"
   ]
  },
  {
   "cell_type": "code",
   "execution_count": 2,
   "metadata": {},
   "outputs": [
    {
     "data": {
      "text/plain": [
       "[('China', 18490000.0),\n",
       " ('China', 9830000.0),\n",
       " ('China', 8360000.0),\n",
       " ('China', 7110000.0),\n",
       " ('China', 4070000.0)]"
      ]
     },
     "execution_count": 2,
     "metadata": {},
     "output_type": "execute_result"
    }
   ],
   "source": [
    "text_file = sqlContext.read.format('com.databricks.spark.csv').options(header='true', inferschema='true', quote='\"', delimiter=',').load(\"C:\\\\Users\\\\sharolin\\\\Desktop\\\\entrada\\\\GuatemalaExportsTo.csv\")\n",
    "rddfiltro = text_file.rdd.map(tuple)\n",
    "rddPAIS = rddfiltro.map(lambda word: (word[4],word[1]))\n",
    "rddPAIS.take(5)"
   ]
  },
  {
   "cell_type": "code",
   "execution_count": 3,
   "metadata": {},
   "outputs": [
    {
     "name": "stdout",
     "output_type": "stream",
     "text": [
      "Conteo total -> [('China', 64176766.0), ('Mexico', 511215129.0), ('Canada', 222575942.0), ('Japon', 164579976.0), ('United Kingdom', 101910872.0), ('Costa Rica', 428419775.0), ('Saudi Arabia', 111274535.0), ('Gabon', 6420.0), ('Italy', 166680831.0), ('France', 34023574.0), ('Brazil', 39146101.0), ('Germany', 144422819.0), ('Honduras', 967311616.0), ('Venezuela', 14998293.0), ('El Salvador', 1217138626.0), ('United States', 3803123168.0)]\n"
     ]
    }
   ],
   "source": [
    "rddCONTEO=rddPAIS.reduceByKey(lambda a,b: a+b)\n",
    "print(\"Conteo total -> %s\" % rddCONTEO.collect())"
   ]
  },
  {
   "cell_type": "code",
   "execution_count": 4,
   "metadata": {},
   "outputs": [
    {
     "name": "stdout",
     "output_type": "stream",
     "text": [
      "Paises con menor valor de exportaciones -> [('Gabon', 6420.0), ('Venezuela', 14998293.0), ('France', 34023574.0), ('Brazil', 39146101.0), ('China', 64176766.0)]\n"
     ]
    }
   ],
   "source": [
    "rddORDEN = sc.parallelize(rddCONTEO.sortBy(lambda a: a[1],True).take(5))\n",
    "print(\"Paises con menor valor de exportaciones -> %s\" % rddORDEN.collect())"
   ]
  },
  {
   "cell_type": "code",
   "execution_count": 5,
   "metadata": {},
   "outputs": [
    {
     "name": "stdout",
     "output_type": "stream",
     "text": [
      "['Gabon', 'Venezuela', 'France', 'Brazil', 'China']\n",
      "[6420.0, 14998293.0, 34023574.0, 39146101.0, 64176766.0]\n"
     ]
    }
   ],
   "source": [
    "rddNombres = rddORDEN.map(lambda x: (x[0]))\n",
    "rddTotales = rddORDEN.map(lambda x: (x[1]))\n",
    "print(rddNombres.collect())\n",
    "print(rddTotales.collect())"
   ]
  },
  {
   "cell_type": "code",
   "execution_count": 6,
   "metadata": {},
   "outputs": [],
   "source": [
    "fig = go.Figure(data=go.Pie(labels=rddNombres.collect(),values=rddTotales.collect()))\n",
    "fig.update_layout(title_text='Paises con menor valor de exportaciones',title_font_size=30)\n",
    "fig.update_traces(hoverinfo='label+percent', textinfo='value',textfont_size=28)\n",
    "fig.write_html('R2_A1.html', auto_open=True)"
   ]
  },
  {
   "cell_type": "code",
   "execution_count": null,
   "metadata": {},
   "outputs": [],
   "source": []
  }
 ],
 "metadata": {
  "kernelspec": {
   "display_name": "Python 3",
   "language": "python",
   "name": "python3"
  },
  "language_info": {
   "codemirror_mode": {
    "name": "ipython",
    "version": 3
   },
   "file_extension": ".py",
   "mimetype": "text/x-python",
   "name": "python",
   "nbconvert_exporter": "python",
   "pygments_lexer": "ipython3",
   "version": "3.7.6"
  }
 },
 "nbformat": 4,
 "nbformat_minor": 4
}
