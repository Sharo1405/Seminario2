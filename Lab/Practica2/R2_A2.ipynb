{
 "cells": [
  {
   "cell_type": "code",
   "execution_count": 1,
   "metadata": {},
   "outputs": [],
   "source": [
    "import findspark\n",
    "findspark.init()\n",
    "from pyspark import SparkContext\n",
    "from pyspark.sql.session import SparkSession\n",
    "sc = SparkContext(\"local\", \"first app\")\n",
    "spark = SparkSession(sc)\n",
    "import plotly.graph_objects as go\n",
    "from pyspark.sql import SQLContext\n",
    "sqlContext = SQLContext(sc)"
   ]
  },
  {
   "cell_type": "code",
   "execution_count": 2,
   "metadata": {},
   "outputs": [
    {
     "data": {
      "text/plain": [
       "[('01', 195), ('02', 112), ('03', 159)]"
      ]
     },
     "execution_count": 2,
     "metadata": {},
     "output_type": "execute_result"
    }
   ],
   "source": [
    "text_file = sqlContext.read.format('com.databricks.spark.csv').options(header='true', inferschema='true', quote='\"', delimiter=',').load(\"C:\\\\Users\\\\sharolin\\\\Desktop\\\\entrada\\\\TraficoAereoGt.csv\")\n",
    "rddfiltro = text_file.rdd.map(tuple)\n",
    "rddAERO = rddfiltro.map(lambda word: (word[0].split('/')[1],word[5]))\n",
    "rddAERO.take(3)"
   ]
  },
  {
   "cell_type": "code",
   "execution_count": 3,
   "metadata": {},
   "outputs": [
    {
     "name": "stdout",
     "output_type": "stream",
     "text": [
      "Conteo total -> [('01', 6034), ('02', 5912), ('03', 5600), ('04', 5723), ('05', 5690), ('06', 5476), ('07', 5972), ('08', 5850), ('09', 5425), ('10', 5347), ('11', 6467), ('12', 5862)]\n"
     ]
    }
   ],
   "source": [
    "rddCONTEO=rddAERO.reduceByKey(lambda a,b: a+b)\n",
    "print(\"Conteo total -> %s\" % rddCONTEO.collect())"
   ]
  },
  {
   "cell_type": "code",
   "execution_count": 5,
   "metadata": {},
   "outputs": [
    {
     "name": "stdout",
     "output_type": "stream",
     "text": [
      "meses con mayor numero de pasajeros de salida  -> [('11', 6467), ('01', 6034), ('07', 5972)]\n"
     ]
    }
   ],
   "source": [
    "rddORDEN=sc.parallelize(rddCONTEO.sortBy(lambda a: a[1],False).take(3))\n",
    "print(\"meses con mayor numero de pasajeros de salida  -> %s\" % rddORDEN.collect())"
   ]
  },
  {
   "cell_type": "code",
   "execution_count": 7,
   "metadata": {},
   "outputs": [
    {
     "name": "stdout",
     "output_type": "stream",
     "text": [
      "['11', '01', '07']\n",
      "[6467, 6034, 5972]\n"
     ]
    }
   ],
   "source": [
    "rddNombres = rddORDEN.map(lambda x: (x[0]))\n",
    "rddTotales = rddORDEN.map(lambda x: (x[1]))\n",
    "print(rddNombres.collect())\n",
    "print(rddTotales.collect())"
   ]
  },
  {
   "cell_type": "code",
   "execution_count": 8,
   "metadata": {},
   "outputs": [],
   "source": [
    "fig = go.Figure(data=go.Pie(labels=rddNombres.collect(),values=rddTotales.collect()))\n",
    "fig.update_layout(title_text='Meses con mayor numero de pasajeros de salida',title_font_size=30)\n",
    "fig.update_traces(hoverinfo='label+percent', textinfo='value',textfont_size=28)\n",
    "fig.write_html('R2_A2.html', auto_open=True)"
   ]
  },
  {
   "cell_type": "code",
   "execution_count": null,
   "metadata": {},
   "outputs": [],
   "source": []
  }
 ],
 "metadata": {
  "kernelspec": {
   "display_name": "Python 3",
   "language": "python",
   "name": "python3"
  },
  "language_info": {
   "codemirror_mode": {
    "name": "ipython",
    "version": 3
   },
   "file_extension": ".py",
   "mimetype": "text/x-python",
   "name": "python",
   "nbconvert_exporter": "python",
   "pygments_lexer": "ipython3",
   "version": "3.7.6"
  }
 },
 "nbformat": 4,
 "nbformat_minor": 4
}
