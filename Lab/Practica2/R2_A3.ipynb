{
 "cells": [
  {
   "cell_type": "code",
   "execution_count": 1,
   "metadata": {},
   "outputs": [],
   "source": [
    "import findspark\n",
    "findspark.init()\n",
    "from pyspark import SparkContext\n",
    "from pyspark.sql.session import SparkSession\n",
    "sc = SparkContext(\"local\", \"first app\")\n",
    "spark = SparkSession(sc)\n",
    "import plotly.graph_objects as go\n",
    "from pyspark.sql import SQLContext\n",
    "sqlContext = SQLContext(sc)"
   ]
  },
  {
   "cell_type": "code",
   "execution_count": 2,
   "metadata": {},
   "outputs": [
    {
     "data": {
      "text/plain": [
       "[(9, 0), (9, 125), (9, 47), (9, 0), (9, 17)]"
      ]
     },
     "execution_count": 2,
     "metadata": {},
     "output_type": "execute_result"
    }
   ],
   "source": [
    "text_file = sqlContext.read.format('com.databricks.spark.csv').options(header='true', inferschema='true', quote='\"', delimiter=',').load(\"C:\\\\Users\\\\sharolin\\\\Desktop\\\\entrada\\\\Covid19.csv\")\n",
    "rddfiltro = text_file.rdd.map(tuple)\n",
    "rddAERO = rddfiltro.map(lambda word: (word[2],word[5]))\n",
    "rddAERO.take(5)"
   ]
  },
  {
   "cell_type": "code",
   "execution_count": 3,
   "metadata": {},
   "outputs": [
    {
     "name": "stdout",
     "output_type": "stream",
     "text": [
      "Conteo total -> [(9, 2374517), (8, 3584040), (7, 3288723), (6, 2527885), (5, 1555025), (3, 324799), (4, 868927), (2, 73635), (1, 9758)]\n"
     ]
    }
   ],
   "source": [
    "rddCONTEO=rddAERO.reduceByKey(lambda a,b: a+b)\n",
    "print(\"Conteo total -> %s\" % rddCONTEO.collect())"
   ]
  },
  {
   "cell_type": "code",
   "execution_count": 5,
   "metadata": {},
   "outputs": [
    {
     "name": "stdout",
     "output_type": "stream",
     "text": [
      "meses con menos casos de COVID  -> [(1, 9758), (2, 73635), (3, 324799), (4, 868927), (5, 1555025)]\n"
     ]
    }
   ],
   "source": [
    "rddORDEN = sc.parallelize(rddCONTEO.sortBy(lambda a: a[1],True).take(5))\n",
    "print(\"meses con menos casos de COVID  -> %s\" % rddORDEN.collect())"
   ]
  },
  {
   "cell_type": "code",
   "execution_count": 6,
   "metadata": {},
   "outputs": [
    {
     "name": "stdout",
     "output_type": "stream",
     "text": [
      "[1, 2, 3, 4, 5]\n",
      "[9758, 73635, 324799, 868927, 1555025]\n"
     ]
    }
   ],
   "source": [
    "rddNombres = rddORDEN.map(lambda x: (x[0]))\n",
    "rddTotales = rddORDEN.map(lambda x: (x[1]))\n",
    "print(rddNombres.collect())\n",
    "print(rddTotales.collect())"
   ]
  },
  {
   "cell_type": "code",
   "execution_count": 7,
   "metadata": {},
   "outputs": [],
   "source": [
    "fig = go.Figure(data=go.Pie(labels=rddNombres.collect(),values=rddTotales.collect()))\n",
    "fig.update_layout(title_text='Meses con menos casos de COVID',title_font_size=30)\n",
    "fig.update_traces(hoverinfo='label+percent', textinfo='value',textfont_size=28)\n",
    "fig.write_html('R2_A3.html', auto_open=True)"
   ]
  },
  {
   "cell_type": "code",
   "execution_count": null,
   "metadata": {},
   "outputs": [],
   "source": []
  }
 ],
 "metadata": {
  "kernelspec": {
   "display_name": "Python 3",
   "language": "python",
   "name": "python3"
  },
  "language_info": {
   "codemirror_mode": {
    "name": "ipython",
    "version": 3
   },
   "file_extension": ".py",
   "mimetype": "text/x-python",
   "name": "python",
   "nbconvert_exporter": "python",
   "pygments_lexer": "ipython3",
   "version": "3.7.6"
  }
 },
 "nbformat": 4,
 "nbformat_minor": 4
}
